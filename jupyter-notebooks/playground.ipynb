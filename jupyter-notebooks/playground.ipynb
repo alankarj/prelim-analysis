{
 "cells": [
  {
   "cell_type": "code",
   "execution_count": 1,
   "metadata": {},
   "outputs": [
    {
     "name": "stdout",
     "output_type": "stream",
     "text": [
      "torch.Size([2, 1])\n",
      "tensor([[ 0.2000,  0.2000,  0.4000,  0.6000]])\n"
     ]
    },
    {
     "data": {
      "text/plain": [
       "torch.Size([1, 2])"
      ]
     },
     "execution_count": 1,
     "metadata": {},
     "output_type": "execute_result"
    }
   ],
   "source": [
    "import torch\n",
    "\n",
    "x = torch.FloatTensor([0.4, 0.6])[:, None]\n",
    "print(x.shape)\n",
    "U = torch.FloatTensor([[0.2, 0.4], [0.2, 0.6]])[None, :, :]\n",
    "print(torch.cat([U[:,:,0], U[:,:,1]], dim=1))\n",
    "torch.matmul(U, x[None, :, :]).squeeze(-1).shape"
   ]
  },
  {
   "cell_type": "code",
   "execution_count": 3,
   "metadata": {},
   "outputs": [
    {
     "name": "stdout",
     "output_type": "stream",
     "text": [
      "tensor([[ 0.,  0.]])\n"
     ]
    }
   ],
   "source": [
    "R = torch.Tensor([0, 0])[None, :]\n",
    "print(R)"
   ]
  },
  {
   "cell_type": "code",
   "execution_count": 13,
   "metadata": {},
   "outputs": [
    {
     "name": "stdout",
     "output_type": "stream",
     "text": [
      "[[0.21376812 0.04951691 0.05193237 0.00483092 0.01509662 0.66485507]]\n",
      "KL distance (baseline):  0.3624999828885832\n"
     ]
    }
   ],
   "source": [
    "import numpy as np\n",
    "\n",
    "def get_pmf(p):\n",
    "    return p/np.sum(p)\n",
    "\n",
    "\n",
    "def get_KL_div(p, q):\n",
    "    epsilon = 1e-3\n",
    "    p[p == 0] = epsilon\n",
    "    q[q == 0] = epsilon\n",
    "    return np.sum(p * np.log(p) - p * np.log(q))\n",
    "\n",
    "\n",
    "def get_KL_distance(p, q):\n",
    "    return 0.5 * (get_KL_div(p, q) + get_KL_div(q, p))\n",
    "\n",
    "gold_dist = np.array([354., 82., 86., 8., 25., 1101.])[np.newaxis, :]\n",
    "print(get_pmf(gold_dist))\n",
    "KL_dist_baseline = get_KL_distance(get_pmf(gold_dist), get_pmf(np.array([1., 0., 0., 0., 0., 1]))[np.newaxis, :])\n",
    "print(\"KL distance (baseline): \", KL_dist_baseline)"
   ]
  },
  {
   "cell_type": "code",
   "execution_count": 10,
   "metadata": {},
   "outputs": [
    {
     "data": {
      "text/plain": [
       "-6.907755278982137"
      ]
     },
     "execution_count": 10,
     "metadata": {},
     "output_type": "execute_result"
    }
   ],
   "source": [
    "np.log(1e-3)"
   ]
  }
 ],
 "metadata": {
  "kernelspec": {
   "display_name": "Python 3",
   "language": "python",
   "name": "python3"
  },
  "language_info": {
   "codemirror_mode": {
    "name": "ipython",
    "version": 3
   },
   "file_extension": ".py",
   "mimetype": "text/x-python",
   "name": "python",
   "nbconvert_exporter": "python",
   "pygments_lexer": "ipython3",
   "version": "3.6.5"
  }
 },
 "nbformat": 4,
 "nbformat_minor": 2
}
