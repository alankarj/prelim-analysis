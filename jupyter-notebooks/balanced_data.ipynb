{
 "cells": [
  {
   "cell_type": "code",
   "execution_count": 3,
   "metadata": {},
   "outputs": [],
   "source": [
    "import pandas as pd\n",
    "from sklearn.model_selection import train_test_split\n",
    "from imblearn.over_sampling import SMOTE\n",
    "import numpy as np\n",
    "import collections\n",
    "\n",
    "df = pd.read_csv(\"0.csv\", index_col=0)\n",
    "x = df['0'].as_matrix()\n",
    "y = df['1'].as_matrix()\n",
    "\n",
    "x_train, x_dev, y_train, y_dev = train_test_split(x, y, test_size=0.2, random_state=123)\n",
    "# sm = SMOTE(random_state=123, k_neighbors=2)\n",
    "# x_train, y_train = sm.fit_sample(x_train[:, np.newaxis], y_train)\n",
    "\n",
    "df = pd.DataFrame(list(zip(x_train, y_train)))\n",
    "df.to_csv('0_train.csv')\n",
    "df = pd.DataFrame(list(zip(x_dev, y_dev)))\n",
    "df.to_csv('0_dev.csv')"
   ]
  }
 ],
 "metadata": {
  "kernelspec": {
   "display_name": "Python 3",
   "language": "python",
   "name": "python3"
  },
  "language_info": {
   "codemirror_mode": {
    "name": "ipython",
    "version": 3
   },
   "file_extension": ".py",
   "mimetype": "text/x-python",
   "name": "python",
   "nbconvert_exporter": "python",
   "pygments_lexer": "ipython3",
   "version": "3.6.5"
  }
 },
 "nbformat": 4,
 "nbformat_minor": 2
}
