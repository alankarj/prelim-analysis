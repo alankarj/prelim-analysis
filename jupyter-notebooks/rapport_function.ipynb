{
 "cells": [
  {
   "cell_type": "code",
   "execution_count": 2,
   "metadata": {},
   "outputs": [],
   "source": [
    "# Read annotated rapport sequences from the text file. \n",
    "# Format of the text file: ID-Space-Sequence in a new line for every session ID.\n",
    "# Assumption: Annotated thin-slice rapport values are representative of middle of each slice.\n",
    "import os\n",
    "import numpy as np\n",
    "\n",
    "parent_path = os.path.abspath('../')\n",
    "thin_slice = 30\n",
    "data_dir = parent_path + '/data/davos/'\n",
    "file_name = 'rapport_evolution_full.txt'\n",
    "smoothing_coef = 0.5\n",
    "\n",
    "all_session_ids = []\n",
    "id_to_rapp = {}\n",
    "\n",
    "with open(data_dir + file_name, 'r') as f:\n",
    "    rows = f.readlines()\n",
    "    for row in rows:\n",
    "        session_id = row.split()[0]\n",
    "        all_session_ids.append(session_id)\n",
    "        rapp = np.array(row.split(\" \")[1:-1]).astype(np.float)\n",
    "        id_to_rapp[session_id] = rapp"
   ]
  },
  {
   "cell_type": "code",
   "execution_count": 3,
   "metadata": {},
   "outputs": [],
   "source": [
    "# Interpolate smooth cubic spline functions for every rapport sequence.\n",
    "from scipy import interpolate\n",
    "import pickle\n",
    "\n",
    "pickle_file_name = 'id_to_f_full.pkl'\n",
    "\n",
    "def get_interpolated_func(y):\n",
    "    x = np.arange(thin_slice * 0.5, y.shape[0] * thin_slice + thin_slice * 0.5, thin_slice)\n",
    "    f = interpolate.UnivariateSpline(x, y, s=smoothing_coef)\n",
    "    return f\n",
    "\n",
    "id_to_f = {}\n",
    "for sid in all_session_ids:\n",
    "    y = id_to_rapp[sid]\n",
    "    id_to_f[sid] = get_interpolated_func(y)\n",
    "\n",
    "with open(data_dir + pickle_file_name, 'wb') as f:\n",
    "    pickle.dump(id_to_f, f, pickle.HIGHEST_PROTOCOL)"
   ]
  },
  {
   "cell_type": "code",
   "execution_count": 5,
   "metadata": {},
   "outputs": [],
   "source": [
    "# Generate all rapport plots.\n",
    "import matplotlib.pyplot as plt\n",
    "import math\n",
    "\n",
    "id_to_f = pickle.load(open(data_dir + pickle_file_name, 'rb'))\n",
    "num_cols_plot = 4\n",
    "num_rows_plot = math.ceil(len(all_session_ids)/num_cols_plot)\n",
    "\n",
    "def plot_rapport(ax, y, f, sid):\n",
    "    x = np.arange(thin_slice * 0.5, y.shape[0] * thin_slice + thin_slice * 0.5, thin_slice)\n",
    "    xnew = np.arange(0, y.shape[0] * thin_slice)\n",
    "    ynew = f(xnew)\n",
    "    ax.scatter(x, y, color='navy', s=30, marker='o', label=\"Annotated Rapport\")\n",
    "    ax.plot(xnew, ynew, label='Smoothed Spline Rapport')\n",
    "    ax.set_ylim(1, 7)\n",
    "    ax.legend(loc='lower left')\n",
    "    ax.set_xlabel('Time (in s)')\n",
    "    ax.set_ylabel('Rapport')\n",
    "    ax.set_title(sid)\n",
    "\n",
    "f, axarr = plt.subplots(num_rows_plot, num_cols_plot, figsize=(8 * num_cols_plot, 6 * num_rows_plot))\n",
    "\n",
    "for i, sid in enumerate(all_session_ids):\n",
    "    row = int(i/num_cols_plot)\n",
    "    col = int(i % num_cols_plot)\n",
    "    y = id_to_rapp[sid]\n",
    "    f = id_to_f[sid]\n",
    "    plot_rapport(axarr[row, col], y, f, sid)"
   ]
  },
  {
   "cell_type": "code",
   "execution_count": 6,
   "metadata": {},
   "outputs": [
    {
     "data": {
      "image/png": "[encoded data removed]",
      "text/plain": [
       "<Figure size 432x288 with 1 Axes>"
      ]
     },
     "metadata": {},
     "output_type": "display_data"
    }
   ],
   "source": [
    "fig = plt.figure()\n",
    "\n",
    "y = id_to_rapp['509969']\n",
    "f = id_to_f['509969']\n",
    "x = np.arange(thin_slice * 0.5, y.shape[0] * thin_slice + thin_slice * 0.5, thin_slice)\n",
    "xnew = np.arange(0, y.shape[0] * thin_slice)\n",
    "ynew = f(xnew)\n",
    "\n",
    "plt.scatter(x, y, color='navy', s=30, marker='o', label=\"Annotated Rapport\")\n",
    "plt.plot(xnew, ynew, label='Cubic Smoothing Spline Rapport')\n",
    "plt.ylim(1, 7)\n",
    "plt.legend(loc='lower left')\n",
    "plt.xlabel('Time (in s)')\n",
    "plt.ylabel('Rapport')\n",
    "    \n",
    "fig.savefig('rapport.pdf', bbox_inches='tight')"
   ]
  },
  {
   "cell_type": "code",
   "execution_count": null,
   "metadata": {},
   "outputs": [],
   "source": []
  }
 ],
 "metadata": {
  "kernelspec": {
   "display_name": "Python 3",
   "language": "python",
   "name": "python3"
  },
  "language_info": {
   "codemirror_mode": {
    "name": "ipython",
    "version": 3
   },
   "file_extension": ".py",
   "mimetype": "text/x-python",
   "name": "python",
   "nbconvert_exporter": "python",
   "pygments_lexer": "ipython3",
   "version": "3.6.5"
  }
 },
 "nbformat": 4,
 "nbformat_minor": 2
}
