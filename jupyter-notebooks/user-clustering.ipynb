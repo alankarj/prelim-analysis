{
 "cells": [
  {
   "cell_type": "code",
   "execution_count": 1,
   "metadata": {},
   "outputs": [
    {
     "name": "stderr",
     "output_type": "stream",
     "text": [
      "/Users/alankar/miniconda3/envs/prelim-analysis-research/lib/python3.6/site-packages/sklearn/utils/validation.py:475: DataConversionWarning: Data with input dtype int64 was converted to float64 by the scale function.\n",
      "  warnings.warn(msg, DataConversionWarning)\n"
     ]
    },
    {
     "name": "stdout",
     "output_type": "stream",
     "text": [
      "(65, 6)\n",
      "42\n",
      "17\n",
      "4\n",
      "2\n",
      "\n",
      "42\n",
      "17\n",
      "4\n",
      "2\n",
      "\n",
      "42\n",
      "17\n",
      "4\n",
      "2\n",
      "\n",
      "42\n",
      "17\n",
      "4\n",
      "2\n",
      "\n",
      "42\n",
      "17\n",
      "4\n",
      "2\n",
      "\n",
      "All scores: \n",
      "[0.2949887 0.2949887 0.2949887 0.2949887 0.2949887]\n",
      "[15.73655132 15.73655132 15.73655132 15.73655132 15.73655132]\n",
      "Averages: \n",
      "0.29498870335266525\n",
      "15.736551320147644\n",
      "Standard Deviation: \n",
      "0.0\n",
      "0.0\n"
     ]
    }
   ],
   "source": [
    "import os\n",
    "import pandas as pd\n",
    "import sklearn.cluster as skclust\n",
    "from sklearn import preprocessing\n",
    "import numpy as np\n",
    "import pickle\n",
    "from sklearn import metrics\n",
    "\n",
    "# seed = 0\n",
    "# np.random.seed(seed)\n",
    "\n",
    "parent_path = os.path.abspath('../')\n",
    "data_path = parent_path + '/data/davos/'\n",
    "csv_ext = '.csv'\n",
    "\n",
    "k_min = 2\n",
    "k_max = 3\n",
    "num_seeds = 5\n",
    "\n",
    "k_vals = list(range(k_min, k_max))\n",
    "\n",
    "file_name = 'conv_strategy_analysis_vsn'\n",
    "output_file_name = file_name + '_clusters'\n",
    "cluster_file_name = 'clusters.pkl'\n",
    "\n",
    "file_path = data_path + file_name + csv_ext\n",
    "\n",
    "user_profiles = pd.read_csv(file_path, index_col=0)\n",
    "X = user_profiles.as_matrix()\n",
    "# print(X)\n",
    "# print(np.average(X, axis=0))\n",
    "# print(np.std(X, axis=0))\n",
    "X = preprocessing.scale(X, axis=0)\n",
    "print(X.shape)\n",
    "\n",
    "# sh = X.shape\n",
    "# X = (np.random.rand(sh[0], sh[1]) - np.random.rand(sh[0], sh[1]))/2\n",
    "# cluster_assignments = np.zeros((X.shape[0], num_seeds))\n",
    "\n",
    "# for k in k_vals:\n",
    "#     for seed in range(num_seeds):\n",
    "#         est = skclust.KMeans(n_clusters = k, random_state=np.random.randint(1000))\n",
    "#         est.fit(X)\n",
    "#         if np.sum(est.labels_) < np.sum(1-est.labels_):\n",
    "#             num_i_type = np.sum(est.labels_)\n",
    "#         cluster_assignments[:, seed] =  \n",
    "\n",
    "sil_scores = np.zeros(num_seeds)\n",
    "cal_scores = np.zeros(num_seeds)\n",
    "for seed in range(num_seeds):\n",
    "    # est = skclust.KMeans(n_clusters = 4, random_state=np.random.randint(1000))  \n",
    "    est = skclust.AgglomerativeClustering(n_clusters=4, linkage='ward')\n",
    "#     est = skclust.SpectralClustering(n_clusters=2)\n",
    "    est.fit(X)\n",
    "    labels = est.labels_\n",
    "    print(np.sum(labels == 0))\n",
    "    print(np.sum(labels == 1))\n",
    "    print(np.sum(labels == 2))\n",
    "    print(np.sum(labels == 3))\n",
    "    print()\n",
    "#     labels = np.random.randint(0, 2, X.shape[0])\n",
    "    sil_scores[seed] = metrics.silhouette_score(X, labels, metric='euclidean')\n",
    "    cal_scores[seed] = metrics.calinski_harabaz_score(X, labels)\n",
    "\n",
    "print(\"All scores: \")\n",
    "print(sil_scores)\n",
    "print(cal_scores)\n",
    "\n",
    "print(\"Averages: \")\n",
    "print(np.average(sil_scores))\n",
    "print(np.average(cal_scores))\n",
    "\n",
    "print(\"Standard Deviation: \")\n",
    "print(np.std(sil_scores))\n",
    "print(np.std(cal_scores))\n",
    "\n",
    "# est = KMeans(n_clusters = 2, random_state=np.random.randint(1000))\n",
    "# est.fit(X)\n",
    "\n",
    "# est = AgglomerativeClustering(n_clusters=2, linkage='ward')\n",
    "# est.fit(X)\n",
    "\n",
    "# print(est.labels_.T)\n",
    "# print(np.sum(est.labels_))\n",
    "# print(np.sum(1-est.labels_))\n",
    "# user_profiles['Cluster'] = est.labels_\n",
    "# user_profiles.to_csv(data_path + output_file_name + csv_ext)"
   ]
  },
  {
   "cell_type": "code",
   "execution_count": 3,
   "metadata": {},
   "outputs": [
    {
     "name": "stdout",
     "output_type": "stream",
     "text": [
      "0      509907\n",
      "1      509921\n",
      "2      509969\n",
      "3      509997\n",
      "4      510196\n",
      "5      510275\n",
      "6      510401\n",
      "7      510410\n",
      "8      510422\n",
      "9      510457\n",
      "10     510500\n",
      "11     510688\n",
      "12     510734\n",
      "13     510849\n",
      "14     510881\n",
      "15     510910\n",
      "16     510918\n",
      "17     510999\n",
      "18     511250\n",
      "19     511447\n",
      "20     511512\n",
      "21     511665\n",
      "22     511862\n",
      "23     512508\n",
      "24     513033\n",
      "25     513058\n",
      "26     513210\n",
      "27     513324\n",
      "28     513762\n",
      "29     513935\n",
      "       ...   \n",
      "35     515151\n",
      "36     515233\n",
      "37     515289\n",
      "38     515762\n",
      "39     515843\n",
      "40     516135\n",
      "41     516417\n",
      "42     516517\n",
      "43    1001335\n",
      "44    1001444\n",
      "45    1001636\n",
      "46    1001877\n",
      "47    1001918\n",
      "48    1002013\n",
      "49    1002242\n",
      "50    1002281\n",
      "51    1002422\n",
      "52    1002648\n",
      "53    1002655\n",
      "54    1003016\n",
      "55    1003158\n",
      "56    2001299\n",
      "57    2001521\n",
      "58    2001541\n",
      "59    2002040\n",
      "60    2004828\n",
      "61    2005036\n",
      "62    2005133\n",
      "63    2008165\n",
      "64    2016938\n",
      "Name: Transcript ID, Length: 65, dtype: int64\n"
     ]
    }
   ],
   "source": [
    "output_file_name = 'final_clusters.csv'\n",
    "cluster_file_name = 'clusters_full.pkl'\n",
    "tid_col_name = 'Transcript ID'\n",
    "cluster_col_name = 'Final Cluster'\n",
    "\n",
    "df = pd.read_csv(data_path + output_file_name, index_col=None)\n",
    "print(df[tid_col_name])\n",
    "cluster_map = dict(zip(df[tid_col_name], df[cluster_col_name]))\n",
    "\n",
    "with open(data_path + cluster_file_name, 'wb') as f:\n",
    "    pickle.dump(cluster_map, f, pickle.HIGHEST_PROTOCOL)"
   ]
  },
  {
   "cell_type": "code",
   "execution_count": 4,
   "metadata": {},
   "outputs": [
    {
     "name": "stdout",
     "output_type": "stream",
     "text": [
      "[[-8.00558845e-01  1.59265429e+00]\n",
      " [ 9.99675388e-01  2.80193785e-01]\n",
      " [ 1.25359629e+00  3.71239305e-01]\n",
      " [ 1.53017746e-01 -9.42716888e-02]\n",
      " [-5.54109958e-01 -2.45244032e-01]\n",
      " [ 1.24252836e+00  7.51955137e-01]\n",
      " [ 1.04614020e-01 -1.03150990e+00]\n",
      " [-3.86045096e-01 -2.91926010e-01]\n",
      " [-4.16553488e-01 -1.80516247e-01]\n",
      " [-7.82970219e-01 -8.80896631e-01]\n",
      " [-1.30087833e+00 -9.21466768e-01]\n",
      " [-1.06388793e+00 -7.04774551e-01]\n",
      " [ 1.10931264e+00 -1.14750652e+00]\n",
      " [-3.14868795e-01  9.54137201e-02]\n",
      " [-2.01130273e+00 -6.22011882e-02]\n",
      " [ 2.96773304e-01 -1.19257065e+00]\n",
      " [ 9.12934309e-02 -4.65052095e-01]\n",
      " [ 2.74240442e+00 -6.53689357e-01]\n",
      " [-6.80693940e-02 -4.10109704e-01]\n",
      " [ 1.30630536e+00 -7.17289733e-01]\n",
      " [-1.62866303e+00 -8.10674340e-02]\n",
      " [ 2.12841812e-01  1.48491808e+00]\n",
      " [-1.14126332e+00  7.09124666e-02]\n",
      " [-2.16130292e-01  2.71395651e+00]\n",
      " [-6.14911859e-01  1.14357125e+00]\n",
      " [-1.56827818e-01 -3.95048377e-01]\n",
      " [ 1.87393904e+00  6.96038320e-01]\n",
      " [-4.08460653e-01 -4.80802495e-01]\n",
      " [-9.73807656e-01 -2.84316173e-01]\n",
      " [ 8.23087456e-01 -1.23773109e-03]\n",
      " [-1.47375832e-01 -3.78489053e-01]\n",
      " [-1.86891283e+00  5.93804139e-01]\n",
      " [ 2.16466114e+00  1.55914295e+00]\n",
      " [-1.20434678e+00 -6.16713512e-01]\n",
      " [ 1.54317873e+00  3.22051773e-01]\n",
      " [-7.73518234e-01 -8.64337306e-01]\n",
      " [ 4.87566935e-01  4.00672886e-01]\n",
      " [-4.05520966e-01 -7.52265454e-01]\n",
      " [-1.22154759e+00  3.07053817e+00]\n",
      " [ 2.86804187e+00 -2.90959217e-01]\n",
      " [ 1.26441393e+00 -1.36650566e+00]\n",
      " [-3.89556682e-01 -4.47683847e-01]\n",
      " [-1.63349646e+00 -6.72344976e-01]\n",
      " [ 2.03061204e+00 -6.40461775e-01]\n",
      " [-1.76912188e+00  6.99360566e-03]\n",
      " [ 1.14066005e-01 -1.01495058e+00]\n",
      " [-7.36460240e-01 -8.06398921e-01]\n",
      " [ 5.49156087e-01 -1.09851762e+00]\n",
      " [ 2.21798402e+00 -9.82281777e-01]\n",
      " [-1.32826945e+00  2.03149930e-01]\n",
      " [ 4.05469060e-01  7.79913043e-01]\n",
      " [-4.39749722e-02 -5.24488478e-01]\n",
      " [-2.36712658e-01  1.28050134e+00]\n",
      " [ 9.68594628e-01  1.66797453e+00]\n",
      " [-6.74735925e-01 -4.35618514e-01]\n",
      " [-9.60487067e-01 -8.50773977e-01]\n",
      " [ 1.50171754e+00  3.01235587e-01]\n",
      " [-7.36460240e-01 -8.06398921e-01]\n",
      " [-1.22192890e+00 -2.14312454e-01]\n",
      " [-1.04251831e+00  6.18305393e-01]\n",
      " [ 8.16003258e-01 -7.16480809e-01]\n",
      " [ 3.23535251e-01  5.29130735e+00]\n",
      " [-1.52526217e+00 -2.27066860e-01]\n",
      " [-5.31337384e-01 -7.95142513e-01]\n",
      " [ 1.82646423e+00 -5.52754060e-01]]\n",
      "[0.23053428 0.20697648]\n"
     ]
    },
    {
     "data": {
      "image/png": "[encoded data removed]",
      "text/plain": [
       "<Figure size 432x288 with 1 Axes>"
      ]
     },
     "metadata": {},
     "output_type": "display_data"
    },
    {
     "name": "stdout",
     "output_type": "stream",
     "text": [
      "[390.0, 322.5096161420936, 262.2094049000219, 222.43234012750074, 181.03257972158508, 155.55569678093656, 139.81311024039982, 123.4584592345993, 111.7335790950548, 100.90755434694196, 89.32140118982544, 82.56583747271262, 73.5324975827635, 64.429151083548, 60.67969729706807, 54.924305604663125, 51.45223910949201, 49.529587383615386, 46.00774944741791, 43.984729615783635, 40.29465078601365, 36.160744823322354, 33.880303425772794, 33.22843795155657, 29.550066812739765, 27.688170569119947, 25.232294970674708, 23.665204475189142, 21.890731876406285, 19.400988197909157]\n"
     ]
    },
    {
     "data": {
      "text/plain": [
       "[<matplotlib.lines.Line2D at 0x1141804a8>]"
      ]
     },
     "execution_count": 4,
     "metadata": {},
     "output_type": "execute_result"
    },
    {
     "data": {
      "image/png": "[encoded data removed]",
      "text/plain": [
       "<Figure size 432x288 with 1 Axes>"
      ]
     },
     "metadata": {},
     "output_type": "display_data"
    }
   ],
   "source": [
    "import matplotlib.pyplot as plt\n",
    "from sklearn.decomposition import PCA\n",
    "\n",
    "pca = PCA(n_components = 2)\n",
    "pca.fit(X)\n",
    "X_pca = pca.transform(X)\n",
    "print(X_pca)\n",
    "print(pca.explained_variance_ratio_)\n",
    "\n",
    "plt.scatter(X[:, 0], X[:, 1], c=est.labels_)\n",
    "plt.show()\n",
    "\n",
    "inertia_list = []\n",
    "for j in range(30):\n",
    "    est = KMeans(n_clusters = j+1)\n",
    "    est.fit(X)\n",
    "    inertia_list.append(est.inertia_)\n",
    "\n",
    "print(inertia_list)\n",
    "plt.plot(inertia_list)"
   ]
  },
  {
   "cell_type": "code",
   "execution_count": 6,
   "metadata": {},
   "outputs": [
    {
     "name": "stdout",
     "output_type": "stream",
     "text": [
      "[4. 4. 4. 4. 4. 2. 3. 3. 2. 3. 4.]\n",
      "[ 15  45  75 105 135 165 195 225 255 285 315]\n",
      "11\n"
     ]
    },
    {
     "data": {
      "image/png": "[encoded data removed]",
      "text/plain": [
       "<Figure size 432x288 with 1 Axes>"
      ]
     },
     "metadata": {},
     "output_type": "display_data"
    },
    {
     "data": {
      "image/png": "[encoded data removed]",
      "text/plain": [
       "<Figure size 432x288 with 1 Axes>"
      ]
     },
     "metadata": {},
     "output_type": "display_data"
    }
   ],
   "source": [
    "from scipy import interpolate\n",
    "all_rapp = []\n",
    "all_ids = []\n",
    "with open(parent_path + '/data/davos/rapport_evolution.txt', 'r') as f:\n",
    "    rows = f.readlines()\n",
    "    for row in rows:\n",
    "        id = row.split()[0]\n",
    "        all_ids.append(id)\n",
    "        rapp = np.array(row.split(\" \")[1:-2]).astype(np.float)\n",
    "        all_rapp.append(rapp)\n",
    "\n",
    "y = all_rapp[0]\n",
    "print(y)\n",
    "x = np.arange(15,y.shape[0]*30+15,30)\n",
    "print(x)\n",
    "print(y.shape[0])\n",
    "\n",
    "plt.scatter(x, y, color='navy', s=30, marker='o', label=\"training points\")\n",
    "\n",
    "f = interpolate.interp1d(x, y, kind='cubic', fill_value='extrapolate')\n",
    "xnew = np.arange(0, 330)\n",
    "ynew = f(xnew)\n",
    "plt.ylim(ymin=1, ymax=7)\n",
    "plt.plot(xnew, ynew, label='cubic')\n",
    "\n",
    "f = interpolate.interp1d(x, y, kind='linear', fill_value='extrapolate')\n",
    "xnew = np.arange(0, 330)\n",
    "ynew = f(xnew)\n",
    "plt.ylim(ymin=1, ymax=7)\n",
    "plt.plot(xnew, ynew, label='linear')\n",
    "\n",
    "plt.legend(loc='lower left')\n",
    "plt.show()\n",
    "\n",
    "plt.scatter(x, y, color='navy', s=30, marker='o', label=\"training points\")\n",
    "f = interpolate.interp1d(x, y, kind='nearest', fill_value='extrapolate')\n",
    "xnew = np.arange(0, 330)\n",
    "ynew = f(xnew)\n",
    "plt.ylim(ymin=1, ymax=7)\n",
    "plt.plot(xnew, ynew, label='nearest')\n",
    "\n",
    "f = interpolate.UnivariateSpline(x, y, s=0.5)\n",
    "xnew = np.arange(0, 330)\n",
    "ynew = f(xnew)\n",
    "plt.ylim(ymin=1, ymax=7)\n",
    "plt.plot(xnew, ynew, label='smoothed spline')\n",
    "\n",
    "plt.legend(loc='lower left')\n",
    "plt.show()\n"
   ]
  },
  {
   "cell_type": "code",
   "execution_count": 8,
   "metadata": {},
   "outputs": [
    {
     "data": {
      "image/png": "[encoded data removed]",
      "text/plain": [
       "<Figure size 432x288 with 1 Axes>"
      ]
     },
     "metadata": {},
     "output_type": "display_data"
    }
   ],
   "source": [
    "from sklearn.preprocessing import PolynomialFeatures\n",
    "from sklearn.pipeline import make_pipeline\n",
    "from sklearn.linear_model import Ridge\n",
    "\n",
    "colors = ['teal', 'yellowgreen', 'gold']\n",
    "lw = 2\n",
    "plt.scatter(x, y, color='navy', s=30, marker='o', label=\"training points\")\n",
    "X = x[:, np.newaxis]\n",
    "x_plot = np.arange(0, 330)\n",
    "X_plot = x_plot[:, np.newaxis]\n",
    "\n",
    "for count, degree in enumerate([1, 2, 3]):\n",
    "    model = make_pipeline(PolynomialFeatures(degree), Ridge())\n",
    "    model.fit(X, y)\n",
    "    y_plot = model.predict(X_plot)\n",
    "    plt.plot(x_plot, y_plot, color=colors[count], linewidth=lw, label=\"degree %d\" % degree)\n",
    "\n",
    "plt.legend(loc='lower left')\n",
    "plt.ylim(ymin=1, ymax=7)\n",
    "plt.show()"
   ]
  },
  {
   "cell_type": "code",
   "execution_count": 3,
   "metadata": {},
   "outputs": [
    {
     "data": {
      "text/plain": [
       "[3, 4, 5]"
      ]
     },
     "execution_count": 3,
     "metadata": {},
     "output_type": "execute_result"
    }
   ],
   "source": [
    "x = [1, 2, 3, 4, 5]\n",
    "x[-3:]"
   ]
  },
  {
   "cell_type": "code",
   "execution_count": null,
   "metadata": {},
   "outputs": [],
   "source": []
  }
 ],
 "metadata": {
  "kernelspec": {
   "display_name": "Python 3",
   "language": "python",
   "name": "python3"
  },
  "language_info": {
   "codemirror_mode": {
    "name": "ipython",
    "version": 3
   },
   "file_extension": ".py",
   "mimetype": "text/x-python",
   "name": "python",
   "nbconvert_exporter": "python",
   "pygments_lexer": "ipython3",
   "version": "3.6.5"
  }
 },
 "nbformat": 4,
 "nbformat_minor": 2
}
